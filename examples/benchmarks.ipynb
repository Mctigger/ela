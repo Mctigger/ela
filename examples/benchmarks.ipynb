{
 "cells": [
  {
   "cell_type": "code",
   "execution_count": 1,
   "metadata": {},
   "outputs": [
    {
     "name": "stderr",
     "output_type": "stream",
     "text": [
      "/home/tim/.conda/envs/ela/lib/python3.6/importlib/_bootstrap.py:219: RuntimeWarning: numpy.dtype size changed, may indicate binary incompatibility. Expected 96, got 88\n",
      "  return f(*args, **kwds)\n"
     ]
    }
   ],
   "source": [
    "import skimage.data\n",
    "import matplotlib.pyplot as plt\n",
    "%matplotlib inline\n",
    "from matplotlib import animation, rc\n",
    "from IPython.display import HTML\n",
    "from timeit import default_timer as timer\n",
    "\n",
    "from torchvision.transforms import ToPILImage\n",
    "from elaugment import generator\n",
    "\n",
    "img = skimage.data.astronaut()\n",
    "\n",
    "def benchmark_elaugment(ts_train):\n",
    "\n",
    "\n",
    "    tg_train = generator.TransformationsGenerator(ts_train)\n",
    "\n",
    "    start = timer()\n",
    "    for i in range(1000):\n",
    "        transform = next(tg_train)\n",
    "        transform(img)\n",
    "\n",
    "    end = timer()\n",
    "    print('elaugment', end - start)  \n",
    "\n",
    "\n",
    "def benchmark_torchvision(transform):\n",
    "    pil_image = ToPILImage()(img)\n",
    "    \n",
    "    start = timer()\n",
    "    for i in range(100):\n",
    "        transform(pil_image)\n",
    "\n",
    "    end = timer()\n",
    "    print('torchvision', end - start)  \n"
   ]
  },
  {
   "cell_type": "code",
   "execution_count": 3,
   "metadata": {},
   "outputs": [
    {
     "name": "stdout",
     "output_type": "stream",
     "text": [
      "elaugment 15.096384746000012\n",
      "torchvision 0.2032242140001017\n"
     ]
    }
   ],
   "source": [
    "from elaugment.image import random\n",
    "from torchvision.transforms import RandomResizedCrop\n",
    "\n",
    "benchmark_elaugment([random.RandomResizedCrop(crop_size=448, min_area=0.08)])\n",
    "benchmark_torchvision(RandomResizedCrop(448))"
   ]
  },
  {
   "cell_type": "code",
   "execution_count": 4,
   "metadata": {},
   "outputs": [
    {
     "name": "stdout",
     "output_type": "stream",
     "text": [
      "elaugment 0.024657741000055466\n",
      "torchvision 0.006343610999920202\n"
     ]
    }
   ],
   "source": [
    "from elaugment.image import random\n",
    "from torchvision.transforms import RandomCrop\n",
    "\n",
    "benchmark_elaugment([random.RandomCrop(crop_size=448)])\n",
    "benchmark_torchvision(RandomCrop(448))"
   ]
  },
  {
   "cell_type": "code",
   "execution_count": 5,
   "metadata": {},
   "outputs": [
    {
     "name": "stderr",
     "output_type": "stream",
     "text": [
      "/home/tim/.conda/envs/ela/lib/python3.6/site-packages/skimage/transform/_warps.py:105: UserWarning: The default mode, 'constant', will be changed to 'reflect' in skimage 0.15.\n",
      "  warn(\"The default mode, 'constant', will be changed to 'reflect' in \"\n"
     ]
    },
    {
     "name": "stdout",
     "output_type": "stream",
     "text": [
      "elaugment 15.19578548100003\n",
      "torchvision 0.09926214400002209\n"
     ]
    }
   ],
   "source": [
    "from elaugment.image import transformations\n",
    "from torchvision.transforms import Resize\n",
    "\n",
    "benchmark_elaugment([transformations.Resize((100, 100))])\n",
    "benchmark_torchvision(Resize((100, 100)))"
   ]
  },
  {
   "cell_type": "code",
   "execution_count": 6,
   "metadata": {},
   "outputs": [
    {
     "name": "stderr",
     "output_type": "stream",
     "text": [
      "/home/tim/.conda/envs/ela/lib/python3.6/site-packages/skimage/transform/_warps.py:105: UserWarning: The default mode, 'constant', will be changed to 'reflect' in skimage 0.15.\n",
      "  warn(\"The default mode, 'constant', will be changed to 'reflect' in \"\n"
     ]
    },
    {
     "name": "stdout",
     "output_type": "stream",
     "text": [
      "iterations/s 32.78366542346152\n"
     ]
    }
   ],
   "source": [
    "from elaugment.image import random\n",
    "\n",
    "tf = [\n",
    "    random.RandomDistortion(5, 5, 0.1, 0.1, order=1)\n",
    "]\n",
    "\n",
    "tg = generator.TransformationsGenerator(tf)\n",
    "\n",
    "img = transformations.Resize((128, 128))(img)\n",
    "\n",
    "start = timer()\n",
    "iterations = 500\n",
    "for i in range(iterations):\n",
    "    t = next(tg)\n",
    "    t(img / 255)\n",
    "    \n",
    "end = timer()\n",
    "print('iterations/s', iterations / (end - start))"
   ]
  },
  {
   "cell_type": "code",
   "execution_count": null,
   "metadata": {},
   "outputs": [],
   "source": []
  },
  {
   "cell_type": "code",
   "execution_count": null,
   "metadata": {},
   "outputs": [],
   "source": []
  }
 ],
 "metadata": {
  "kernelspec": {
   "display_name": "Python [default]",
   "language": "python",
   "name": "python3"
  },
  "language_info": {
   "codemirror_mode": {
    "name": "ipython",
    "version": 3
   },
   "file_extension": ".py",
   "mimetype": "text/x-python",
   "name": "python",
   "nbconvert_exporter": "python",
   "pygments_lexer": "ipython3",
   "version": "3.6.6"
  }
 },
 "nbformat": 4,
 "nbformat_minor": 2
}
